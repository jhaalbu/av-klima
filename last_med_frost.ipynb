{
 "cells": [
  {
   "cell_type": "code",
   "execution_count": 1,
   "id": "6ae37ce8-49b9-4abb-85fd-7ed81fb47545",
   "metadata": {},
   "outputs": [
    {
     "ename": "ModuleNotFoundError",
     "evalue": "No module named 'frost2df'",
     "output_type": "error",
     "traceback": [
      "\u001b[1;31m---------------------------------------------------------------------------\u001b[0m",
      "\u001b[1;31mModuleNotFoundError\u001b[0m                       Traceback (most recent call last)",
      "\u001b[1;32m<ipython-input-1-8a5551afc94c>\u001b[0m in \u001b[0;36m<module>\u001b[1;34m\u001b[0m\n\u001b[1;32m----> 1\u001b[1;33m \u001b[1;32mimport\u001b[0m \u001b[0mfrost2df\u001b[0m \u001b[1;31m# for frost.help\u001b[0m\u001b[1;33m\u001b[0m\u001b[1;33m\u001b[0m\u001b[0m\n\u001b[0m\u001b[0;32m      2\u001b[0m \u001b[1;32mfrom\u001b[0m \u001b[0mfrost2df\u001b[0m \u001b[1;32mimport\u001b[0m \u001b[0mfrost2df\u001b[0m\u001b[1;33m,\u001b[0m \u001b[0mobs2df\u001b[0m\u001b[1;33m,\u001b[0m \u001b[0mlightning2df\u001b[0m\u001b[1;33m,\u001b[0m \u001b[0mcodetable\u001b[0m\u001b[1;33m\u001b[0m\u001b[1;33m\u001b[0m\u001b[0m\n\u001b[0;32m      3\u001b[0m \u001b[1;32mimport\u001b[0m \u001b[0mdatetime\u001b[0m\u001b[1;33m\u001b[0m\u001b[1;33m\u001b[0m\u001b[0m\n\u001b[0;32m      4\u001b[0m \u001b[1;32mimport\u001b[0m \u001b[0mnumpy\u001b[0m \u001b[1;32mas\u001b[0m \u001b[0mnp\u001b[0m\u001b[1;33m\u001b[0m\u001b[1;33m\u001b[0m\u001b[0m\n\u001b[0;32m      5\u001b[0m \u001b[1;32mimport\u001b[0m \u001b[0mfolium\u001b[0m\u001b[1;33m\u001b[0m\u001b[1;33m\u001b[0m\u001b[0m\n",
      "\u001b[1;31mModuleNotFoundError\u001b[0m: No module named 'frost2df'"
     ]
    }
   ],
   "source": [
    "import frost2df # for frost.help\n",
    "from frost2df import frost2df, obs2df, lightning2df, codetable\n",
    "import datetime\n",
    "import numpy as np\n",
    "import folium\n",
    "from folium.features import DivIcon\n",
    "from pyproj import CRS\n",
    "from pyproj import Transformer\n",
    "import requests\n",
    "import pandas as pd\n",
    "from pandas.io.json import json_normalize\n",
    "from IPython.display import display\n",
    "\n",
    "\n",
    "client_id = 'b8b1793b-27ff-4f4d-a081-fcbcc5065b53'\n",
    "client_secret = '7f24c0ca-ca82-4ed6-afcd-23e657c2e78c'"
   ]
  },
  {
   "cell_type": "code",
   "execution_count": 2,
   "id": "541df7d3-4dca-449c-806e-cf5dcfd97c13",
   "metadata": {},
   "outputs": [
    {
     "ename": "NameError",
     "evalue": "name 'frost2df' is not defined",
     "output_type": "error",
     "traceback": [
      "\u001b[1;31m---------------------------------------------------------------------------\u001b[0m",
      "\u001b[1;31mNameError\u001b[0m                                 Traceback (most recent call last)",
      "\u001b[1;32m<ipython-input-2-b3d16eefff58>\u001b[0m in \u001b[0;36m<module>\u001b[1;34m\u001b[0m\n\u001b[1;32m----> 1\u001b[1;33m \u001b[0mdf_stasjoner\u001b[0m \u001b[1;33m=\u001b[0m \u001b[0mfrost2df\u001b[0m\u001b[1;33m(\u001b[0m\u001b[1;34m'sources'\u001b[0m\u001b[1;33m,\u001b[0m \u001b[1;33m{\u001b[0m\u001b[1;34m'county'\u001b[0m\u001b[1;33m:\u001b[0m \u001b[1;34m'*møre*'\u001b[0m\u001b[1;33m}\u001b[0m\u001b[1;33m)\u001b[0m\u001b[1;33m\u001b[0m\u001b[1;33m\u001b[0m\u001b[0m\n\u001b[0m\u001b[0;32m      2\u001b[0m \u001b[0mdf_stasjoner\u001b[0m\u001b[1;33m[\u001b[0m\u001b[1;34m'validFrom'\u001b[0m\u001b[1;33m]\u001b[0m \u001b[1;33m=\u001b[0m \u001b[0mpd\u001b[0m\u001b[1;33m.\u001b[0m\u001b[0mto_datetime\u001b[0m\u001b[1;33m(\u001b[0m\u001b[0mdf_stasjoner\u001b[0m\u001b[1;33m[\u001b[0m\u001b[1;34m'validFrom'\u001b[0m\u001b[1;33m]\u001b[0m\u001b[1;33m)\u001b[0m\u001b[1;33m\u001b[0m\u001b[1;33m\u001b[0m\u001b[0m\n\u001b[0;32m      3\u001b[0m \u001b[0mmask\u001b[0m \u001b[1;33m=\u001b[0m \u001b[1;33m(\u001b[0m\u001b[0mdf_stasjoner\u001b[0m\u001b[1;33m[\u001b[0m\u001b[1;34m'validFrom'\u001b[0m\u001b[1;33m]\u001b[0m \u001b[1;33m>\u001b[0m \u001b[1;34m'1700-01-01'\u001b[0m\u001b[1;33m)\u001b[0m \u001b[1;33m&\u001b[0m \u001b[1;33m(\u001b[0m\u001b[0mdf_stasjoner\u001b[0m\u001b[1;33m[\u001b[0m\u001b[1;34m'validFrom'\u001b[0m\u001b[1;33m]\u001b[0m \u001b[1;33m<=\u001b[0m \u001b[1;34m'1980-01-01'\u001b[0m\u001b[1;33m)\u001b[0m\u001b[1;33m\u001b[0m\u001b[1;33m\u001b[0m\u001b[0m\n\u001b[0;32m      4\u001b[0m \u001b[0mdf_utvalg\u001b[0m\u001b[1;33m=\u001b[0m \u001b[0mdf_stasjoner\u001b[0m\u001b[1;33m.\u001b[0m\u001b[0mloc\u001b[0m\u001b[1;33m[\u001b[0m\u001b[0mmask\u001b[0m\u001b[1;33m]\u001b[0m\u001b[1;33m\u001b[0m\u001b[1;33m\u001b[0m\u001b[0m\n\u001b[0;32m      5\u001b[0m \u001b[0mdf_utvalg\u001b[0m\u001b[1;33m.\u001b[0m\u001b[0mreset_index\u001b[0m\u001b[1;33m(\u001b[0m\u001b[0minplace\u001b[0m\u001b[1;33m=\u001b[0m\u001b[1;32mTrue\u001b[0m\u001b[1;33m)\u001b[0m\u001b[1;33m\u001b[0m\u001b[1;33m\u001b[0m\u001b[0m\n",
      "\u001b[1;31mNameError\u001b[0m: name 'frost2df' is not defined"
     ]
    }
   ],
   "source": [
    "df_stasjoner = frost2df('sources', {'county': '*møre*'})\n",
    "df_stasjoner['validFrom'] = pd.to_datetime(df_stasjoner['validFrom'])\n",
    "mask = (df_stasjoner['validFrom'] > '1700-01-01') & (df_stasjoner['validFrom'] <= '1980-01-01')\n",
    "df_utvalg= df_stasjoner.loc[mask]\n",
    "df_utvalg.reset_index(inplace=True)\n",
    "df_utvalg"
   ]
  },
  {
   "cell_type": "code",
   "execution_count": null,
   "id": "afa26087-fa67-435e-b2d0-8c08a6784663",
   "metadata": {},
   "outputs": [],
   "source": [
    "\n",
    "m = folium.Map(location=[df_utvalg['geometry.coordinates'][0][1], y], zoom_start=8) #Bruker transformerte koordinater (ikkej funne ut korleis bruke UTM med folium)\n",
    "\n",
    "for i in range(len(df_utvalg)):\n",
    "    folium.Marker(\n",
    "        location=[df_utvalg['geometry.coordinates'][i][1], df_utvalg['geometry.coordinates'][i][0]],\n",
    "        popup=df_utvalg['name'][i] + ' | ' + df_utvalg['id'][i] + ' | ' + str(df_utvalg['validFrom'][i]),\n",
    "        icon=folium.Icon(color=\"green\")\n",
    "    ).add_to(m)\n",
    "#Legger til Norgeskart WMS\n",
    "folium.raster_layers.WmsTileLayer(\n",
    "    url='https://opencache.statkart.no/gatekeeper/gk/gk.open_gmaps?layers=topo4&zoom={z}&x={x}&y={y}',\n",
    "    name='Norgeskart',\n",
    "    fmt='image/png',\n",
    "    layers='topo4',\n",
    "    attr=u'<a href=\"http://www.kartverket.no/\">Kartverket</a>',\n",
    "    transparent=True,\n",
    "    overlay=True,\n",
    "    control=True,\n",
    "    \n",
    ").add_to(m)\n",
    "\n",
    "m"
   ]
  }
 ],
 "metadata": {
  "kernelspec": {
   "display_name": "Python 3",
   "language": "python",
   "name": "python3"
  },
  "language_info": {
   "codemirror_mode": {
    "name": "ipython",
    "version": 3
   },
   "file_extension": ".py",
   "mimetype": "text/x-python",
   "name": "python",
   "nbconvert_exporter": "python",
   "pygments_lexer": "ipython3",
   "version": "3.8.11"
  }
 },
 "nbformat": 4,
 "nbformat_minor": 5
}
